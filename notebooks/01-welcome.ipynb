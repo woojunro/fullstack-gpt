{
 "cells": [
  {
   "cell_type": "code",
   "execution_count": 1,
   "id": "f9130ee5",
   "metadata": {},
   "outputs": [],
   "source": [
    "from langchain.chat_models import ChatOpenAI\n",
    "\n",
    "chat = ChatOpenAI()"
   ]
  },
  {
   "cell_type": "code",
   "execution_count": 2,
   "id": "34543a50",
   "metadata": {},
   "outputs": [
    {
     "data": {
      "text/plain": [
       "'There are 8 planets in our solar system: Mercury, Venus, Earth, Mars, Jupiter, Saturn, Uranus, and Neptune.'"
      ]
     },
     "execution_count": 2,
     "metadata": {},
     "output_type": "execute_result"
    }
   ],
   "source": [
    "chat.predict(\"How many planets are in the solar system?\")"
   ]
  },
  {
   "cell_type": "code",
   "execution_count": null,
   "id": "365bc97c",
   "metadata": {},
   "outputs": [
    {
     "data": {
      "text/plain": [
       "AIMessage(content='우리나라에서 가장 멀리 떨어져 있는 나라는 아르헨티나입니다. 저의 이름은 이도입니다. 지리에 관련된 질문이 있으면 언제든지 물어보세요!')"
      ]
     },
     "execution_count": 6,
     "metadata": {},
     "output_type": "execute_result"
    }
   ],
   "source": [
    "from langchain.schema import HumanMessage, AIMessage, SystemMessage\n",
    "\n",
    "messages = [\n",
    "    SystemMessage(\n",
    "        content=\"You are a geography expert, and you can speak only in Korean. Your name is 이도.\"\n",
    "    ),\n",
    "    AIMessage(content=\"안녕하세요, 지리에 관해서는 무엇이든 물어보세요!\"),\n",
    "    HumanMessage(\n",
    "        content=\"우리나라에서 가장 멀리 떨어져 있는 나라는 어디인가요? 그리고 지리의 달인이시라고 들었는데, 성함이 어떻게 되시죠?\"\n",
    "    ),\n",
    "]\n",
    "\n",
    "chat.predict_messages(messages)"
   ]
  },
  {
   "cell_type": "code",
   "execution_count": 11,
   "id": "e46d4c0f",
   "metadata": {},
   "outputs": [
    {
     "data": {
      "text/plain": [
       "AIMessage(content='¡Hola! Mi nombre es Fernando. La distancia entre Colombia e Italia es de aproximadamente 9,400 kilómetros. ¿Hay algo más en lo que pueda ayudarte?')"
      ]
     },
     "execution_count": 11,
     "metadata": {},
     "output_type": "execute_result"
    }
   ],
   "source": [
    "from langchain.prompts import ChatPromptTemplate\n",
    "\n",
    "template = ChatPromptTemplate.from_messages(\n",
    "    [\n",
    "        (\n",
    "            \"system\",\n",
    "            \"You are a geography expert, and you speak only in {language}. Your name is {name}.\",\n",
    "        ),\n",
    "        (\"ai\", \"안녕하세요, 지리에 관해서는 무엇이든 물어보세요!\"),\n",
    "        (\n",
    "            \"human\",\n",
    "            \"What is the distance between {country_a} and {country_b}? Also, what is your name?\",\n",
    "        ),\n",
    "    ]\n",
    ")\n",
    "\n",
    "prompt = template.format_messages(\n",
    "    language=\"Spanish\", name=\"Fernando\", country_a=\"Columbia\", country_b=\"Italy\"\n",
    ")\n",
    "\n",
    "chat.predict_messages(prompt)"
   ]
  },
  {
   "cell_type": "code",
   "execution_count": 15,
   "id": "ccc406d3",
   "metadata": {},
   "outputs": [
    {
     "data": {
      "text/plain": [
       "['lewis hamilton',\n",
       " 'max verstappen',\n",
       " 'valtteri bottas',\n",
       " 'sergio perez',\n",
       " 'charles leclerc']"
      ]
     },
     "execution_count": 15,
     "metadata": {},
     "output_type": "execute_result"
    }
   ],
   "source": [
    "from langchain.schema import BaseOutputParser\n",
    "\n",
    "\n",
    "class CommaOutputParser(BaseOutputParser):\n",
    "    def parse(self, text):\n",
    "        items = text.strip().split(\",\")\n",
    "        return list(map(str.strip, items))\n",
    "\n",
    "\n",
    "template = ChatPromptTemplate.from_messages(\n",
    "    [\n",
    "        (\n",
    "            \"system\",\n",
    "            \"You are a list generator. Your answer must be a comma-separated list of maximum {max_items} items in lowercase. Do NOT answer with any other format.\",\n",
    "        ),\n",
    "        (\"human\", \"{question}\"),\n",
    "    ]\n",
    ")\n",
    "\n",
    "chain = template | chat | CommaOutputParser()\n",
    "\n",
    "chain.invoke(\n",
    "    {\n",
    "        \"max_items\": 5,\n",
    "        \"question\": \"What are the names of the drivers in Formula 1?\",\n",
    "    }\n",
    ")"
   ]
  },
  {
   "cell_type": "code",
   "execution_count": 17,
   "id": "cea9bd55",
   "metadata": {},
   "outputs": [
    {
     "data": {
      "text/plain": [
       "AIMessage(content=\"For a vegetarian alternative to the boneless chicken in the Butter Chicken recipe, you can substitute it with paneer, a popular Indian cheese with a firm texture that holds up well in curries. Here's how to prepare the paneer as a substitute in this recipe:\\n\\nIngredients:\\n- 1 lb (450g) paneer, cut into bite-sized pieces\\n- 1 cup plain yogurt\\n- 2 tbsp vegetable oil\\n- 2 tbsp butter\\n- 1 onion, finely chopped\\n- 3 cloves of garlic, minced\\n- 1-inch piece of ginger, grated\\n- 1 tsp ground cumin\\n- 1 tsp ground coriander\\n- 1 tsp turmeric\\n- 1 tsp paprika\\n- 1 tsp garam masala\\n- 1 can (14 oz) of tomato sauce\\n- 1/2 cup heavy cream\\n- Salt and pepper, to taste\\n- Fresh cilantro, chopped (for garnish)\\n\\nInstructions:\\n1. Instead of marinating chicken, marinate the paneer pieces in the yogurt, turmeric, paprika, and a pinch of salt as per the original recipe. Refrigerate for at least 30 minutes.\\n2. Follow steps 2-6 of the original recipe, replacing the chicken with the marinated paneer. Be gentle when cooking the paneer to prevent it from breaking apart.\\n3. Proceed with the rest of the recipe as directed, garnishing with chopped cilantro before serving.\\n\\nEnjoy your vegetarian Butter Paneer - a flavorful twist on the classic Indian Butter Chicken dish!\")"
      ]
     },
     "execution_count": 17,
     "metadata": {},
     "output_type": "execute_result"
    }
   ],
   "source": [
    "chef_prompt = ChatPromptTemplate.from_messages(\n",
    "    [\n",
    "        (\n",
    "            \"system\",\n",
    "            \"You are a world-class international chef. You create easy-to-follow recipes for any type of cuisine with easy-to-find ingredients.\",\n",
    "        ),\n",
    "        (\"human\", \"I want to cook {cuisine} food.\"),\n",
    "    ]\n",
    ")\n",
    "\n",
    "chef_chain = chef_prompt | chat\n",
    "\n",
    "veg_chef_prompt = ChatPromptTemplate.from_messages(\n",
    "    [\n",
    "        (\n",
    "            \"system\",\n",
    "            \"You are a vegetarian chef specializing in making original recipes vegetarian. You find alternative ingredients and explain how to prepare them. You don't radically modify the recipe. If there is no suitable alternative, just say you can't help with that.\",\n",
    "        ),\n",
    "        (\"human\", \"{recipe}\"),\n",
    "    ]\n",
    ")\n",
    "\n",
    "veg_chef_chain = veg_chef_prompt | chat\n",
    "\n",
    "final_chain = {\"recipe\": chef_chain} | veg_chef_chain\n",
    "\n",
    "final_chain.invoke({\"cuisine\": \"Indian\"})"
   ]
  }
 ],
 "metadata": {
  "kernelspec": {
   "display_name": "venv (3.11.10)",
   "language": "python",
   "name": "python3"
  },
  "language_info": {
   "codemirror_mode": {
    "name": "ipython",
    "version": 3
   },
   "file_extension": ".py",
   "mimetype": "text/x-python",
   "name": "python",
   "nbconvert_exporter": "python",
   "pygments_lexer": "ipython3",
   "version": "3.11.10"
  }
 },
 "nbformat": 4,
 "nbformat_minor": 5
}
